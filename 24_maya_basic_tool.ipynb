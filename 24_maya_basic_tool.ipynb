{
 "cells": [
  {
   "cell_type": "markdown",
   "metadata": {},
   "source": [
    "# Maya Tool Install"
   ]
  },
  {
   "attachments": {
    "mayatool.PNG": {
     "image/png": "[encoded data removed]"
    }
   },
   "cell_type": "markdown",
   "metadata": {},
   "source": [
    "![mayatool.PNG](attachment:mayatool.PNG)"
   ]
  },
  {
   "cell_type": "markdown",
   "metadata": {},
   "source": [
    "I am going to install a path of maya tool using PySide/PySide2.  \n",
    "If you install a path, you can use your maya tool."
   ]
  },
  {
   "cell_type": "markdown",
   "metadata": {},
   "source": [
    "Save Directory : Documents/maya/scripts/userSetup.py"
   ]
  },
  {
   "cell_type": "code",
   "execution_count": 1,
   "metadata": {},
   "outputs": [
    {
     "ename": "ModuleNotFoundError",
     "evalue": "No module named 'maya'",
     "output_type": "error",
     "traceback": [
      "\u001b[1;31m---------------------------------------------------------------------------\u001b[0m",
      "\u001b[1;31mModuleNotFoundError\u001b[0m                       Traceback (most recent call last)",
      "\u001b[1;32m<ipython-input-1-246e78f26924>\u001b[0m in \u001b[0;36m<module>\u001b[1;34m()\u001b[0m\n\u001b[0;32m     10\u001b[0m   \u001b[1;32mfrom\u001b[0m \u001b[0mPySide\u001b[0m \u001b[1;32mimport\u001b[0m \u001b[0m__version__\u001b[0m\u001b[1;33m\u001b[0m\u001b[0m\n\u001b[0;32m     11\u001b[0m   \u001b[1;32mfrom\u001b[0m \u001b[0mshiboken\u001b[0m \u001b[1;32mimport\u001b[0m \u001b[0mwrapInstance\u001b[0m\u001b[1;33m\u001b[0m\u001b[0m\n\u001b[1;32m---> 12\u001b[1;33m \u001b[1;32mimport\u001b[0m \u001b[0mmaya\u001b[0m\u001b[1;33m.\u001b[0m\u001b[0mOpenMayaUI\u001b[0m \u001b[1;32mas\u001b[0m \u001b[0mmui\u001b[0m\u001b[1;33m\u001b[0m\u001b[0m\n\u001b[0m\u001b[0;32m     13\u001b[0m \u001b[1;32mimport\u001b[0m \u001b[0mmaya\u001b[0m\u001b[1;33m.\u001b[0m\u001b[0mcmds\u001b[0m \u001b[1;32mas\u001b[0m \u001b[0mcmds\u001b[0m\u001b[1;33m\u001b[0m\u001b[0m\n\u001b[0;32m     14\u001b[0m \u001b[1;32mimport\u001b[0m \u001b[0mos\u001b[0m\u001b[1;33m,\u001b[0m \u001b[0msys\u001b[0m\u001b[1;33m\u001b[0m\u001b[0m\n",
      "\u001b[1;31mModuleNotFoundError\u001b[0m: No module named 'maya'"
     ]
    }
   ],
   "source": [
    "try:\n",
    "  from PySide2.QtCore import *\n",
    "  from PySide2.QtGui import *\n",
    "  from PySide2.QtWidgets import *\n",
    "  from PySide2 import __version__\n",
    "  from shiboken2 import wrapInstance\n",
    "except ImportError:\n",
    "  from PySide.QtCore import *\n",
    "  from PySide.QtGui import *\n",
    "  from PySide import __version__\n",
    "  from shiboken import wrapInstance\n",
    "import maya.OpenMayaUI as mui\n",
    "import maya.cmds as cmds\n",
    "import os, sys"
   ]
  },
  {
   "cell_type": "code",
   "execution_count": 2,
   "metadata": {},
   "outputs": [],
   "source": [
    "objectName = \"mayaToolsInstall\""
   ]
  },
  {
   "cell_type": "code",
   "execution_count": 3,
   "metadata": {},
   "outputs": [],
   "source": [
    "def getMayaWindow():\n",
    "    pointer = mui.MQtUtil.mainWindow()\n",
    "    return wrapInstance(long(pointer), QWidget)"
   ]
  },
  {
   "cell_type": "code",
   "execution_count": 4,
   "metadata": {},
   "outputs": [],
   "source": [
    "def mayaTools_browse(*args):\n",
    "    try:\n",
    "        mayaToolsDir = cmds.fileDialog2(dialogStyle=2, fileMode=3)[0]\n",
    "\n",
    "        # confirm that this is in fact the maya tools directory\n",
    "        if mayaToolsDir.rpartition(\"/\")[2] != \"MayaTools\":\n",
    "            cmds.warning(\"Selected directory is not the MayaTools directory. Please try again.\")\n",
    "        else:\n",
    "            cmds.deleteUI(objectName)\n",
    "\n",
    "            # create the text file that contains the maya tools directory path\n",
    "            path = cmds.internalVar(upd=True) + \"MayaTools.txt\"\n",
    "\n",
    "            f = open(path, \"w\")\n",
    "            f.write(mayaToolsDir)\n",
    "            f.close()\n",
    "\n",
    "            # run setup\n",
    "            import mayaSetup\n",
    "            mayaSetup.setupTools()\n",
    "    except:\n",
    "        # press cancel button\n",
    "        pass"
   ]
  },
  {
   "cell_type": "code",
   "execution_count": 5,
   "metadata": {},
   "outputs": [],
   "source": [
    "def mayaTools_cancel(*args):\n",
    "    cmds.deleteUI(objectName, wnd=True)"
   ]
  },
  {
   "cell_type": "code",
   "execution_count": 6,
   "metadata": {},
   "outputs": [],
   "source": [
    "def mayaTools_UI():\n",
    "    # check to see if the UI already exists and if so, delete\n",
    "    if cmds.window(objectName, exists=True):\n",
    "        cmds.deleteUI(objectName, wnd=True)\n",
    "\n",
    "    # create the window\n",
    "    parent = getMayaWindow()\n",
    "    window = QMainWindow(parent)\n",
    "    window.setObjectName(objectName)\n",
    "    window.setWindowTitle(\"Maya Tool Install Path\")\n",
    "    window.setMinimumSize(300, 100)\n",
    "    window.setMaximumSize(300, 100)\n",
    "\n",
    "    # create the main widget\n",
    "    mainWidget = QWidget()\n",
    "    window.setCentralWidget(mainWidget)\n",
    "\n",
    "    # create our main vertical layout\n",
    "    verticalLayout = QVBoxLayout(mainWidget)\n",
    "\n",
    "    # create label\n",
    "    label = QLabel(\"Could not find Maya Tools directory. \\nPlease locate using the \\\"Browse\\\" button.\")\n",
    "    label.setAlignment(Qt.AlignCenter)\n",
    "    verticalLayout.addWidget(label)\n",
    "\n",
    "    # create font and assign\n",
    "    font = QFont()\n",
    "    font.setPointSize(10)\n",
    "    font.setBold(True)\n",
    "    label.setFont(font)\n",
    "\n",
    "    # create add the horizontal layout\n",
    "    layout = QHBoxLayout()\n",
    "    verticalLayout.addLayout(layout)\n",
    "\n",
    "    # create the \"cancelButton\" button\n",
    "    browseButton = QPushButton(\"Browse\")\n",
    "    layout.addWidget(browseButton)\n",
    "    font2 = QFont()\n",
    "    font2.setPointSize(10)\n",
    "    browseButton.setFont(font2)\n",
    "    browseButton.clicked.connect(mayaTools_browse)\n",
    "\n",
    "    # create the \"cancelButton\" button\n",
    "    cancelButton = QPushButton(\"Cancel\")\n",
    "    layout.addWidget(cancelButton)\n",
    "    cancelButton.setFont(font2)\n",
    "    cancelButton.clicked.connect(mayaTools_cancel)\n",
    "\n",
    "    # show the window\n",
    "    window.show()"
   ]
  },
  {
   "cell_type": "code",
   "execution_count": 7,
   "metadata": {},
   "outputs": [],
   "source": [
    "def mayaTools():\n",
    "    path = cmds.internalVar(upd=True) + \"mayaTools.txt\"\n",
    "    if os.path.exists(path):\n",
    "        f = open(path, \"r\")\n",
    "        mayaToolsDir = f.readline()\n",
    "\n",
    "        path = mayaToolsDir + \"/General/Scripts\"\n",
    "\n",
    "        if os.path.exists(path):\n",
    "            if not path in sys.path:\n",
    "                sys.path.append(path)\n",
    "        # run setup\n",
    "        import mayaSetup\n",
    "        mayaSetup.setupTools()\n",
    "    else:\n",
    "        mayaTools_UI()"
   ]
  },
  {
   "cell_type": "code",
   "execution_count": 8,
   "metadata": {},
   "outputs": [
    {
     "ename": "NameError",
     "evalue": "name 'cmds' is not defined",
     "output_type": "error",
     "traceback": [
      "\u001b[1;31m---------------------------------------------------------------------------\u001b[0m",
      "\u001b[1;31mNameError\u001b[0m                                 Traceback (most recent call last)",
      "\u001b[1;32m<ipython-input-8-70d235bb1d87>\u001b[0m in \u001b[0;36m<module>\u001b[1;34m()\u001b[0m\n\u001b[1;32m----> 1\u001b[1;33m \u001b[0mscriptJobNum\u001b[0m \u001b[1;33m=\u001b[0m \u001b[0mcmds\u001b[0m\u001b[1;33m.\u001b[0m\u001b[0mscriptJob\u001b[0m\u001b[1;33m(\u001b[0m\u001b[0mevent\u001b[0m\u001b[1;33m=\u001b[0m\u001b[1;33m[\u001b[0m\u001b[1;34m\"NewSceneOpened\"\u001b[0m\u001b[1;33m,\u001b[0m \u001b[0mmayaTools\u001b[0m\u001b[1;33m]\u001b[0m\u001b[1;33m)\u001b[0m\u001b[1;33m\u001b[0m\u001b[0m\n\u001b[0m",
      "\u001b[1;31mNameError\u001b[0m: name 'cmds' is not defined"
     ]
    }
   ],
   "source": [
    "scriptJobNum = cmds.scriptJob(event=[\"NewSceneOpened\", mayaTools])"
   ]
  }
 ],
 "metadata": {
  "kernelspec": {
   "display_name": "Python 3",
   "language": "python",
   "name": "python3"
  },
  "language_info": {
   "codemirror_mode": {
    "name": "ipython",
    "version": 3
   },
   "file_extension": ".py",
   "mimetype": "text/x-python",
   "name": "python",
   "nbconvert_exporter": "python",
   "pygments_lexer": "ipython3",
   "version": "3.6.4"
  }
 },
 "nbformat": 4,
 "nbformat_minor": 2
}
